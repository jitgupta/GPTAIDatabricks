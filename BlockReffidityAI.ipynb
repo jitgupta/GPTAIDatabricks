{
 "cells": [
  {
   "cell_type": "code",
   "execution_count": 0,
   "metadata": {
    "application/vnd.databricks.v1+cell": {
     "cellMetadata": {
      "byteLimit": 2048000,
      "rowLimit": 10000
     },
     "collapsed": true,
     "inputWidgets": {},
     "nuid": "54b7297d-57e7-4be9-8f0f-0cdba49be48a",
     "showTitle": false,
     "tableResultSettingsMap": {},
     "title": ""
    }
   },
   "outputs": [
    {
     "output_type": "stream",
     "name": "stdout",
     "output_type": "stream",
     "text": [
      "Requirement already satisfied: openai==1.105.0 in /local_disk0/.ephemeral_nfs/envs/pythonEnv-4bea3944-d537-4cd1-bf99-00d980db6fac/lib/python3.12/site-packages (1.105.0)\nRequirement already satisfied: pymupdf>=1.24.0 in /local_disk0/.ephemeral_nfs/envs/pythonEnv-4bea3944-d537-4cd1-bf99-00d980db6fac/lib/python3.12/site-packages (1.26.4)\nRequirement already satisfied: pillow in /local_disk0/.ephemeral_nfs/envs/pythonEnv-4bea3944-d537-4cd1-bf99-00d980db6fac/lib/python3.12/site-packages (11.3.0)\nRequirement already satisfied: pytesseract>=0.3.10 in /local_disk0/.ephemeral_nfs/envs/pythonEnv-4bea3944-d537-4cd1-bf99-00d980db6fac/lib/python3.12/site-packages (0.3.13)\nRequirement already satisfied: jsonschema>=4.22.0 in /local_disk0/.ephemeral_nfs/envs/pythonEnv-4bea3944-d537-4cd1-bf99-00d980db6fac/lib/python3.12/site-packages (4.25.1)\nRequirement already satisfied: anyio<5,>=3.5.0 in /databricks/python3/lib/python3.12/site-packages (from openai==1.105.0) (4.2.0)\nRequirement already satisfied: distro<2,>=1.7.0 in /usr/lib/python3/dist-packages (from openai==1.105.0) (1.9.0)\nRequirement already satisfied: httpx<1,>=0.23.0 in /local_disk0/.ephemeral_nfs/envs/pythonEnv-4bea3944-d537-4cd1-bf99-00d980db6fac/lib/python3.12/site-packages (from openai==1.105.0) (0.28.1)\nRequirement already satisfied: jiter<1,>=0.4.0 in /local_disk0/.ephemeral_nfs/envs/pythonEnv-4bea3944-d537-4cd1-bf99-00d980db6fac/lib/python3.12/site-packages (from openai==1.105.0) (0.10.0)\nRequirement already satisfied: pydantic<3,>=1.9.0 in /databricks/python3/lib/python3.12/site-packages (from openai==1.105.0) (2.8.2)\nRequirement already satisfied: sniffio in /databricks/python3/lib/python3.12/site-packages (from openai==1.105.0) (1.3.0)\nRequirement already satisfied: tqdm>4 in /local_disk0/.ephemeral_nfs/envs/pythonEnv-4bea3944-d537-4cd1-bf99-00d980db6fac/lib/python3.12/site-packages (from openai==1.105.0) (4.67.1)\nRequirement already satisfied: typing-extensions<5,>=4.11 in /databricks/python3/lib/python3.12/site-packages (from openai==1.105.0) (4.11.0)\nRequirement already satisfied: packaging>=21.3 in /databricks/python3/lib/python3.12/site-packages (from pytesseract>=0.3.10) (24.1)\nRequirement already satisfied: attrs>=22.2.0 in /local_disk0/.ephemeral_nfs/envs/pythonEnv-4bea3944-d537-4cd1-bf99-00d980db6fac/lib/python3.12/site-packages (from jsonschema>=4.22.0) (25.3.0)\nRequirement already satisfied: jsonschema-specifications>=2023.03.6 in /local_disk0/.ephemeral_nfs/envs/pythonEnv-4bea3944-d537-4cd1-bf99-00d980db6fac/lib/python3.12/site-packages (from jsonschema>=4.22.0) (2025.9.1)\nRequirement already satisfied: referencing>=0.28.4 in /local_disk0/.ephemeral_nfs/envs/pythonEnv-4bea3944-d537-4cd1-bf99-00d980db6fac/lib/python3.12/site-packages (from jsonschema>=4.22.0) (0.36.2)\nRequirement already satisfied: rpds-py>=0.7.1 in /local_disk0/.ephemeral_nfs/envs/pythonEnv-4bea3944-d537-4cd1-bf99-00d980db6fac/lib/python3.12/site-packages (from jsonschema>=4.22.0) (0.27.1)\nRequirement already satisfied: idna>=2.8 in /databricks/python3/lib/python3.12/site-packages (from anyio<5,>=3.5.0->openai==1.105.0) (3.7)\nRequirement already satisfied: certifi in /databricks/python3/lib/python3.12/site-packages (from httpx<1,>=0.23.0->openai==1.105.0) (2024.6.2)\nRequirement already satisfied: httpcore==1.* in /local_disk0/.ephemeral_nfs/envs/pythonEnv-4bea3944-d537-4cd1-bf99-00d980db6fac/lib/python3.12/site-packages (from httpx<1,>=0.23.0->openai==1.105.0) (1.0.9)\nRequirement already satisfied: h11>=0.16 in /local_disk0/.ephemeral_nfs/envs/pythonEnv-4bea3944-d537-4cd1-bf99-00d980db6fac/lib/python3.12/site-packages (from httpcore==1.*->httpx<1,>=0.23.0->openai==1.105.0) (0.16.0)\nRequirement already satisfied: annotated-types>=0.4.0 in /databricks/python3/lib/python3.12/site-packages (from pydantic<3,>=1.9.0->openai==1.105.0) (0.7.0)\nRequirement already satisfied: pydantic-core==2.20.1 in /databricks/python3/lib/python3.12/site-packages (from pydantic<3,>=1.9.0->openai==1.105.0) (2.20.1)\n\u001B[43mNote: you may need to restart the kernel using %restart_python or dbutils.library.restartPython() to use updated packages.\u001B[0m\n"
     ]
    }
   ],
   "source": [
    "%pip install --upgrade \"openai==1.105.0\" \"pymupdf>=1.24.0\" pillow \"pytesseract>=0.3.10\" \"jsonschema>=4.22.0\"\n",
    "\n"
   ]
  },
  {
   "cell_type": "code",
   "execution_count": 0,
   "metadata": {
    "application/vnd.databricks.v1+cell": {
     "cellMetadata": {
      "byteLimit": 2048000,
      "rowLimit": 10000
     },
     "inputWidgets": {},
     "nuid": "107b8b7a-f3cd-4de1-acff-e3b961d47045",
     "showTitle": false,
     "tableResultSettingsMap": {},
     "title": ""
    }
   },
   "outputs": [],
   "source": [
    "dbutils.library.restartPython()"
   ]
  },
  {
   "cell_type": "code",
   "execution_count": 0,
   "metadata": {
    "application/vnd.databricks.v1+cell": {
     "cellMetadata": {
      "byteLimit": 2048000,
      "rowLimit": 10000
     },
     "inputWidgets": {},
     "nuid": "fc10e922-bb5b-4f4f-9e40-bbfb02cb14a7",
     "showTitle": false,
     "tableResultSettingsMap": {},
     "title": ""
    }
   },
   "outputs": [],
   "source": [
    "# ==== CONFIG ====\n",
    "USE_OCR  = True            # Use OCR for scanned/blurry PDFs\n",
    "OCR_DPI  = 600             # Higher DPI for OCR improves accuracy\n",
    "OCR_LANG = \"eng\"           # Add \"eng+hin\" if you need multi-language\n",
    "MODEL    = \"gpt-4o-2024-08-06\"\n",
    "\n",
    "import os, json, re, io, base64\n",
    "from typing import List, Dict\n",
    "\n",
    "from openai import OpenAI\n",
    "from jsonschema import Draft202012Validator\n",
    "\n",
    "# --- API KEY (if Community Edition, set manually) ---\n",
    "# os.environ[\"OPENAI_API_KEY\"] = \"sk-xxxx\"\n",
    "OPENAI_API_KEY = dbutils.secrets.get(scope=\"kv\", key=\"openai-api-key\")\n",
    "os.environ[\"OPENAI_API_KEY\"] = OPENAI_API_KEY\n",
    "client = OpenAI()\n",
    "\n",
    "# ==== Schema definition (matches your expected output) ====\n",
    "structured_schema = {\n",
    "    \"type\": \"object\",\n",
    "    \"additionalProperties\": False,\n",
    "    \"properties\": {\n",
    "        \"document_title\": {\"type\": [\"string\", \"null\"]},\n",
    "        \"summary\": {\"type\": [\"string\", \"null\"]},\n",
    "        \"sections\": {\n",
    "            \"type\": \"array\",\n",
    "            \"items\": {\n",
    "                \"type\": \"object\",\n",
    "                \"additionalProperties\": False,\n",
    "                \"properties\": {\n",
    "                    \"section\": {\"type\": \"string\"},\n",
    "                    \"items\": {\n",
    "                        \"type\": \"array\",\n",
    "                        \"items\": {\n",
    "                            \"type\": \"object\",\n",
    "                            \"additionalProperties\": False,\n",
    "                            \"properties\": {\n",
    "                                \"label\": {\"type\": \"string\"},\n",
    "                                \"value\": {\"type\": [\"string\", \"null\"]}\n",
    "                            },\n",
    "                            \"required\": [\"label\", \"value\"]\n",
    "                        }\n",
    "                    }\n",
    "                },\n",
    "                \"required\": [\"section\", \"items\"]\n",
    "            }\n",
    "        },\n",
    "        \"transactions\": {\n",
    "            \"type\": \"array\",\n",
    "            \"items\": {\n",
    "                \"type\": \"object\",\n",
    "                \"additionalProperties\": False,\n",
    "                \"properties\": {\n",
    "                    \"value_date\": {\"type\": [\"string\", \"null\"]},\n",
    "                    \"value_balance\": {\"type\": [\"number\", \"string\", \"null\"]}\n",
    "                },\n",
    "                \"required\": [\"value_date\", \"value_balance\"]\n",
    "            }\n",
    "        }\n",
    "    },\n",
    "    \"required\": [\"document_title\", \"summary\", \"sections\", \"transactions\"]\n",
    "}\n",
    "validator = Draft202012Validator(structured_schema)\n",
    "\n",
    "# ==== PDF text extraction & OCR ====\n",
    "import fitz\n",
    "from PIL import Image, ImageEnhance\n",
    "\n",
    "def get_text_native(path: str, max_pages=50) -> str:\n",
    "    doc = fitz.open(path)\n",
    "    parts = []\n",
    "    for i, p in enumerate(doc):\n",
    "        if i >= max_pages: break\n",
    "        parts.append(p.get_text(\"text\", sort=True) or \"\")\n",
    "    doc.close()\n",
    "    return \"\\n\".join(parts)\n",
    "\n",
    "def get_text_ocr(path: str, dpi=OCR_DPI, max_pages=50, lang=OCR_LANG) -> str:\n",
    "    import pytesseract\n",
    "    doc = fitz.open(path)\n",
    "    parts = []\n",
    "    scale = dpi/72.0\n",
    "    matrix = fitz.Matrix(scale, scale)\n",
    "    for i, p in enumerate(doc):\n",
    "        if i >= max_pages: break\n",
    "        pix = p.get_pixmap(matrix=matrix, alpha=False)\n",
    "        png = pix.tobytes(\"png\")\n",
    "        img = Image.open(io.BytesIO(png)).convert(\"L\")\n",
    "        img = ImageEnhance.Contrast(img).enhance(2.0)\n",
    "        img = ImageEnhance.Sharpness(img).enhance(1.5)\n",
    "        t = pytesseract.image_to_string(img, lang=lang) or \"\"\n",
    "        parts.append(t)\n",
    "    doc.close()\n",
    "    return \"\\n\".join(parts)\n",
    "\n",
    "def render_pages_as_data_urls(path: str, dpi=OCR_DPI, max_pages=20) -> list:\n",
    "    doc = fitz.open(path)\n",
    "    urls = []\n",
    "    scale = dpi/72.0\n",
    "    matrix = fitz.Matrix(scale, scale)\n",
    "    for i, p in enumerate(doc):\n",
    "        if i >= max_pages: break\n",
    "        pix = p.get_pixmap(matrix=matrix, alpha=False)\n",
    "        png = pix.tobytes(\"png\")\n",
    "        b64 = base64.b64encode(png).decode(\"utf-8\")\n",
    "        urls.append(\"data:image/png;base64,\" + b64)\n",
    "    doc.close()\n",
    "    return urls\n",
    "\n",
    "# ==== Seed parse (minimal) ====\n",
    "def parse_deterministic(text: str) -> dict:\n",
    "    first_line = (text.splitlines() or [\"\"])[0].strip()\n",
    "    return {\n",
    "        \"document_title\": first_line if first_line else None,\n",
    "        \"summary\": None,\n",
    "        \"sections\": [],\n",
    "        \"transactions\": []\n",
    "    }\n",
    "\n",
    "# ==== GPT-4o System Prompt ====\n",
    "JSON_ONLY_SYSTEM = (\n",
    "    \"You are an OCR + information extraction agent. \"\n",
    "    \"You MUST NOT invent values. \"\n",
    "    \"Return ONLY one JSON object with exactly this schema: \"\n",
    "    + json.dumps(structured_schema) +\n",
    "    \" Always include these sections if present in the document: \"\n",
    "    \"'Account details', 'Bank details', 'Account balances', 'Selected view'. \"\n",
    "    \"For each section, extract label→value pairs. \"\n",
    "    \"For transactions, extract value_date and value_balance. \"\n",
    "    \"If something is missing, still include it but set value to null. \"\n",
    "    \"Output JSON only, no commentary or code fences.\"\n",
    ")\n",
    "\n",
    "def validate_json(s: str) -> dict:\n",
    "    s = re.sub(r\"^```(?:json)?\\s*|\\s*```$\", \"\", s.strip(), flags=re.I|re.DOTALL)\n",
    "    obj = json.loads(s)\n",
    "    validator.validate(obj)\n",
    "    return obj\n",
    "\n",
    "def gpt4o_complete(pdf_path: str, ocr_text: str, seed_doc: dict) -> dict:\n",
    "    images = render_pages_as_data_urls(pdf_path, dpi=OCR_DPI)\n",
    "    ocr_chunk = ocr_text[:120000]\n",
    "    seed_chunk = json.dumps(seed_doc)[:120000]\n",
    "    messages = [{\n",
    "        \"role\": \"system\",\n",
    "        \"content\": JSON_ONLY_SYSTEM\n",
    "    },{\n",
    "        \"role\": \"user\",\n",
    "        \"content\": [\n",
    "            {\"type\": \"input_text\", \"text\": \"Here is OCR/native text:\\n\" + ocr_chunk},\n",
    "            {\"type\": \"input_text\", \"text\": \"Here is a partial parse:\\n\" + seed_chunk},\n",
    "        ] + [{\"type\": \"input_image\", \"image_url\": u} for u in images]\n",
    "    }]\n",
    "    resp = client.responses.create(model=MODEL, input=messages, temperature=0)\n",
    "    return validate_json(resp.output_text)\n",
    "\n",
    "# ==== Main orchestrator (AI always) ====\n",
    "def extract_structured_pdf(pdf_path: str, use_ocr=USE_OCR, dpi=OCR_DPI, lang=OCR_LANG) -> dict:\n",
    "    text = get_text_ocr(pdf_path, dpi=dpi, lang=lang) if use_ocr else get_text_native(pdf_path)\n",
    "    seed = parse_deterministic(text)\n",
    "    return gpt4o_complete(pdf_path, text, seed)\n",
    "\n"
   ]
  },
  {
   "cell_type": "code",
   "execution_count": 0,
   "metadata": {
    "application/vnd.databricks.v1+cell": {
     "cellMetadata": {
      "byteLimit": 2048000,
      "rowLimit": 10000
     },
     "inputWidgets": {},
     "nuid": "af37db56-87c1-4706-a83d-094fc910d9cd",
     "showTitle": false,
     "tableResultSettingsMap": {},
     "title": ""
    }
   },
   "outputs": [
    {
     "output_type": "display_data",
     "data": {
      "text/plain": [
       "{'document_title': 'Liquid Account Details: ABCDEFGH/157942833/EUR',\n",
       " 'summary': None,\n",
       " 'sections': [{'section': 'Account details',\n",
       "   'items': [{'label': 'Account', 'value': 'ABCDEFGH/1157942833/EUR'},\n",
       "    {'label': 'Description', 'value': None},\n",
       "    {'label': 'Account number', 'value': '134283795'},\n",
       "    {'label': 'IBAN', 'value': 'NT 76 310154283379 0000'},\n",
       "    {'label': 'Account owner', 'value': 'JITENDRA TRANSACTION SERVICES'},\n",
       "    {'label': 'Country', 'value': 'Newzeland (NT)'},\n",
       "    {'label': 'Currency', 'value': 'EUR (Euro)'},\n",
       "    {'label': 'Account group', 'value': None}]},\n",
       "  {'section': 'Bank details',\n",
       "   'items': [{'label': 'Bank', 'value': '<Undefined>'},\n",
       "    {'label': 'Bank code', 'value': '51000'},\n",
       "    {'label': 'BIC', 'value': 'ABCDEFGH'},\n",
       "    {'label': 'Bank access', 'value': 'Reffidity Bank International'}]},\n",
       "  {'section': 'Account balances', 'items': []},\n",
       "  {'section': 'Selected view',\n",
       "   'items': [{'label': 'Filter settings', 'value': None},\n",
       "    {'label': 'Starting date', 'value': '16/06/25'},\n",
       "    {'label': 'Period', 'value': 'Daily'},\n",
       "    {'label': 'Convert to', 'value': 'Original currency'},\n",
       "    {'label': 'Display of amounts', 'value': 'Precise'},\n",
       "    {'label': 'Decimal places', 'value': 'Yes'},\n",
       "    {'label': 'Include intraday reports', 'value': 'Yes'},\n",
       "    {'label': 'Include forecasts', 'value': 'Yes'}]}],\n",
       " 'transactions': [{'value_date': '16/06/25', 'value_balance': 2532.73},\n",
       "  {'value_date': '17/06/25', 'value_balance': 572532.73}]}"
      ]
     },
     "metadata": {},
     "output_type": "display_data"
    }
   ],
   "source": [
    "\n",
    "pdf_path = \"/Volumes/workspace/default/pdfvolume/Reffidity_pdf.pdf\"  # change if needed\n",
    "\n",
    "# ---------- Extract the structured data using pipelien ------------------\n",
    "doc = extract_structured_pdf(pdf_path, use_ocr=True, dpi=600, lang=\"eng\")\n",
    "display(doc)\n",
    "#print(json.dumps(doc, indent=2))\n"
   ]
  }
 ],
 "metadata": {
  "application/vnd.databricks.v1+notebook": {
   "computePreferences": null,
   "dashboards": [],
   "environmentMetadata": {
    "base_environment": "",
    "environment_version": "3"
   },
   "inputWidgetPreferences": null,
   "language": "python",
   "notebookMetadata": {
    "pythonIndentUnit": 4
   },
   "notebookName": "BlockReffidityAI",
   "widgets": {}
  },
  "language_info": {
   "name": "python"
  }
 },
 "nbformat": 4,
 "nbformat_minor": 0
}