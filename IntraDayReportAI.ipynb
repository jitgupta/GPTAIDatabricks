{
 "cells": [
  {
   "cell_type": "code",
   "execution_count": 0,
   "metadata": {
    "application/vnd.databricks.v1+cell": {
     "cellMetadata": {
      "byteLimit": 2048000,
      "rowLimit": 10000
     },
     "collapsed": true,
     "inputWidgets": {},
     "nuid": "54b7297d-57e7-4be9-8f0f-0cdba49be48a",
     "showTitle": false,
     "tableResultSettingsMap": {},
     "title": ""
    }
   },
   "outputs": [
    {
     "output_type": "stream",
     "name": "stdout",
     "output_type": "stream",
     "text": [
      "Collecting openai==1.105.0\n  Downloading openai-1.105.0-py3-none-any.whl.metadata (29 kB)\nCollecting pymupdf>=1.24.0\n  Downloading pymupdf-1.26.4-cp39-abi3-manylinux_2_28_aarch64.whl.metadata (3.4 kB)\nRequirement already satisfied: pillow in /databricks/python3/lib/python3.12/site-packages (10.3.0)\nCollecting pillow\n  Downloading pillow-11.3.0-cp312-cp312-manylinux_2_27_aarch64.manylinux_2_28_aarch64.whl.metadata (9.0 kB)\nCollecting pytesseract>=0.3.10\n  Downloading pytesseract-0.3.13-py3-none-any.whl.metadata (11 kB)\nCollecting jsonschema>=4.22.0\n  Downloading jsonschema-4.25.1-py3-none-any.whl.metadata (7.6 kB)\nRequirement already satisfied: anyio<5,>=3.5.0 in /databricks/python3/lib/python3.12/site-packages (from openai==1.105.0) (4.2.0)\nRequirement already satisfied: distro<2,>=1.7.0 in /usr/lib/python3/dist-packages (from openai==1.105.0) (1.9.0)\nCollecting httpx<1,>=0.23.0 (from openai==1.105.0)\n  Downloading httpx-0.28.1-py3-none-any.whl.metadata (7.1 kB)\nCollecting jiter<1,>=0.4.0 (from openai==1.105.0)\n  Downloading jiter-0.10.0-cp312-cp312-manylinux_2_17_aarch64.manylinux2014_aarch64.whl.metadata (5.2 kB)\nRequirement already satisfied: pydantic<3,>=1.9.0 in /databricks/python3/lib/python3.12/site-packages (from openai==1.105.0) (2.8.2)\nRequirement already satisfied: sniffio in /databricks/python3/lib/python3.12/site-packages (from openai==1.105.0) (1.3.0)\nCollecting tqdm>4 (from openai==1.105.0)\n  Downloading tqdm-4.67.1-py3-none-any.whl.metadata (57 kB)\nRequirement already satisfied: typing-extensions<5,>=4.11 in /databricks/python3/lib/python3.12/site-packages (from openai==1.105.0) (4.11.0)\nRequirement already satisfied: packaging>=21.3 in /databricks/python3/lib/python3.12/site-packages (from pytesseract>=0.3.10) (24.1)\nCollecting attrs>=22.2.0 (from jsonschema>=4.22.0)\n  Downloading attrs-25.3.0-py3-none-any.whl.metadata (10 kB)\nCollecting jsonschema-specifications>=2023.03.6 (from jsonschema>=4.22.0)\n  Downloading jsonschema_specifications-2025.9.1-py3-none-any.whl.metadata (2.9 kB)\nCollecting referencing>=0.28.4 (from jsonschema>=4.22.0)\n  Downloading referencing-0.36.2-py3-none-any.whl.metadata (2.8 kB)\nCollecting rpds-py>=0.7.1 (from jsonschema>=4.22.0)\n  Downloading rpds_py-0.27.1-cp312-cp312-manylinux_2_17_aarch64.manylinux2014_aarch64.whl.metadata (4.2 kB)\nRequirement already satisfied: idna>=2.8 in /databricks/python3/lib/python3.12/site-packages (from anyio<5,>=3.5.0->openai==1.105.0) (3.7)\nRequirement already satisfied: certifi in /databricks/python3/lib/python3.12/site-packages (from httpx<1,>=0.23.0->openai==1.105.0) (2024.6.2)\nCollecting httpcore==1.* (from httpx<1,>=0.23.0->openai==1.105.0)\n  Downloading httpcore-1.0.9-py3-none-any.whl.metadata (21 kB)\nCollecting h11>=0.16 (from httpcore==1.*->httpx<1,>=0.23.0->openai==1.105.0)\n  Downloading h11-0.16.0-py3-none-any.whl.metadata (8.3 kB)\nRequirement already satisfied: annotated-types>=0.4.0 in /databricks/python3/lib/python3.12/site-packages (from pydantic<3,>=1.9.0->openai==1.105.0) (0.7.0)\nRequirement already satisfied: pydantic-core==2.20.1 in /databricks/python3/lib/python3.12/site-packages (from pydantic<3,>=1.9.0->openai==1.105.0) (2.20.1)\nDownloading openai-1.105.0-py3-none-any.whl (928 kB)\n\u001B[?25l   \u001B[90m━━━━━━━━━━━━━━━━━━━━━━━━━━━━━━━━━━━━━━━━\u001B[0m \u001B[32m0.0/928.2 kB\u001B[0m \u001B[31m?\u001B[0m eta \u001B[36m-:--:--\u001B[0m\r\u001B[2K   \u001B[90m━━━━━━━━━━━━━━━━━━━━━━━━━━━━━━━━━━━━━━━━\u001B[0m \u001B[32m928.2/928.2 kB\u001B[0m \u001B[31m20.7 MB/s\u001B[0m eta \u001B[36m0:00:00\u001B[0m\n\u001B[?25hDownloading pymupdf-1.26.4-cp39-abi3-manylinux_2_28_aarch64.whl (23.5 MB)\n\u001B[?25l   \u001B[90m━━━━━━━━━━━━━━━━━━━━━━━━━━━━━━━━━━━━━━━━\u001B[0m \u001B[32m0.0/23.5 MB\u001B[0m \u001B[31m?\u001B[0m eta \u001B[36m-:--:--\u001B[0m\r\u001B[2K   \u001B[91m━━━━━━━━━━━━━━━━━━━━━━━━\u001B[0m\u001B[90m╺\u001B[0m\u001B[90m━━━━━━━━━━━━━━━\u001B[0m \u001B[32m14.2/23.5 MB\u001B[0m \u001B[31m72.4 MB/s\u001B[0m eta \u001B[36m0:00:01\u001B[0m\r\u001B[2K   \u001B[90m━━━━━━━━━━━━━━━━━━━━━━━━━━━━━━━━━━━━━━━━\u001B[0m \u001B[32m23.5/23.5 MB\u001B[0m \u001B[31m64.9 MB/s\u001B[0m eta \u001B[36m0:00:00\u001B[0m\n\u001B[?25hDownloading pillow-11.3.0-cp312-cp312-manylinux_2_27_aarch64.manylinux_2_28_aarch64.whl (6.0 MB)\n\u001B[?25l   \u001B[90m━━━━━━━━━━━━━━━━━━━━━━━━━━━━━━━━━━━━━━━━\u001B[0m \u001B[32m0.0/6.0 MB\u001B[0m \u001B[31m?\u001B[0m eta \u001B[36m-:--:--\u001B[0m\r\u001B[2K   \u001B[90m━━━━━━━━━━━━━━━━━━━━━━━━━━━━━━━━━━━━━━━━\u001B[0m \u001B[32m6.0/6.0 MB\u001B[0m \u001B[31m81.5 MB/s\u001B[0m eta \u001B[36m0:00:00\u001B[0m\n\u001B[?25hDownloading pytesseract-0.3.13-py3-none-any.whl (14 kB)\nDownloading jsonschema-4.25.1-py3-none-any.whl (90 kB)\nDownloading attrs-25.3.0-py3-none-any.whl (63 kB)\nDownloading httpx-0.28.1-py3-none-any.whl (73 kB)\nDownloading httpcore-1.0.9-py3-none-any.whl (78 kB)\nDownloading jiter-0.10.0-cp312-cp312-manylinux_2_17_aarch64.manylinux2014_aarch64.whl (345 kB)\nDownloading jsonschema_specifications-2025.9.1-py3-none-any.whl (18 kB)\nDownloading referencing-0.36.2-py3-none-any.whl (26 kB)\nDownloading rpds_py-0.27.1-cp312-cp312-manylinux_2_17_aarch64.manylinux2014_aarch64.whl (385 kB)\nDownloading tqdm-4.67.1-py3-none-any.whl (78 kB)\nDownloading h11-0.16.0-py3-none-any.whl (37 kB)\nInstalling collected packages: tqdm, rpds-py, pymupdf, pillow, jiter, h11, attrs, referencing, pytesseract, httpcore, jsonschema-specifications, httpx, openai, jsonschema\n  Attempting uninstall: pillow\n    Found existing installation: pillow 10.3.0\n    Not uninstalling pillow at /databricks/python3/lib/python3.12/site-packages, outside environment /local_disk0/.ephemeral_nfs/envs/pythonEnv-f0ebe721-6be7-4706-89ce-3a02057389dc\n    Can't uninstall 'pillow'. No files were found to uninstall.\n  Attempting uninstall: h11\n    Found existing installation: h11 0.14.0\n    Not uninstalling h11 at /databricks/python3/lib/python3.12/site-packages, outside environment /local_disk0/.ephemeral_nfs/envs/pythonEnv-f0ebe721-6be7-4706-89ce-3a02057389dc\n    Can't uninstall 'h11'. No files were found to uninstall.\nSuccessfully installed attrs-25.3.0 h11-0.16.0 httpcore-1.0.9 httpx-0.28.1 jiter-0.10.0 jsonschema-4.25.1 jsonschema-specifications-2025.9.1 openai-1.105.0 pillow-11.3.0 pymupdf-1.26.4 pytesseract-0.3.13 referencing-0.36.2 rpds-py-0.27.1 tqdm-4.67.1\n\u001B[43mNote: you may need to restart the kernel using %restart_python or dbutils.library.restartPython() to use updated packages.\u001B[0m\n"
     ]
    }
   ],
   "source": [
    "%pip install --upgrade \"openai==1.105.0\" \"pymupdf>=1.24.0\" pillow \"pytesseract>=0.3.10\" \"jsonschema>=4.22.0\"\n",
    "\n"
   ]
  },
  {
   "cell_type": "code",
   "execution_count": 0,
   "metadata": {
    "application/vnd.databricks.v1+cell": {
     "cellMetadata": {
      "byteLimit": 2048000,
      "rowLimit": 10000
     },
     "inputWidgets": {},
     "nuid": "107b8b7a-f3cd-4de1-acff-e3b961d47045",
     "showTitle": false,
     "tableResultSettingsMap": {},
     "title": ""
    }
   },
   "outputs": [],
   "source": [
    "dbutils.library.restartPython()"
   ]
  },
  {
   "cell_type": "code",
   "execution_count": 0,
   "metadata": {
    "application/vnd.databricks.v1+cell": {
     "cellMetadata": {
      "byteLimit": 2048000,
      "rowLimit": 10000
     },
     "inputWidgets": {},
     "nuid": "fc10e922-bb5b-4f4f-9e40-bbfb02cb14a7",
     "showTitle": false,
     "tableResultSettingsMap": {},
     "title": ""
    }
   },
   "outputs": [],
   "source": [
    "# ==== CONFIG ====\n",
    "USE_OCR  = True             # Use OCR for scanned/blurry PDFs\n",
    "OCR_DPI  = 600              # High DPI for sharper OCR\n",
    "OCR_LANG = \"eng\"            # OCR language\n",
    "MODEL    = \"gpt-4o-2024-08-06\"\n",
    "\n",
    "import os, json, re, io, base64\n",
    "from typing import List, Dict\n",
    "\n",
    "from openai import OpenAI\n",
    "from jsonschema import Draft202012Validator\n",
    "\n",
    "# --- API KEY (Community Edition → set manually; Premium → use secrets) ---\n",
    "# os.environ[\"OPENAI_API_KEY\"] = \"sk-xxxx\"\n",
    "OPENAI_API_KEY = dbutils.secrets.get(scope=\"kv\", key=\"openai-api-key\")\n",
    "os.environ[\"OPENAI_API_KEY\"] = OPENAI_API_KEY\n",
    "client = OpenAI()\n",
    "\n",
    "# ==== Schema definition (your required output) ====\n",
    "structured_schema = {\n",
    "    \"type\": \"object\",\n",
    "    \"additionalProperties\": False,\n",
    "    \"properties\": {\n",
    "        \"document_title\": {\"type\": [\"string\", \"null\"]},\n",
    "        \"summary\": {\"type\": [\"string\", \"null\"]},\n",
    "        \"sections\": {\n",
    "            \"type\": \"array\",\n",
    "            \"items\": {\n",
    "                \"type\": \"object\",\n",
    "                \"additionalProperties\": False,\n",
    "                \"properties\": {\n",
    "                    \"section\": {\"type\": [\"string\", \"null\"]},\n",
    "                    \"items\": {\n",
    "                        \"type\": \"array\",\n",
    "                        \"items\": {\n",
    "                            \"type\": \"object\",\n",
    "                            \"additionalProperties\": False,\n",
    "                            \"properties\": {\n",
    "                                \"label\": {\"type\": \"string\"},\n",
    "                                \"value\": {\"type\": [\"string\", \"null\"]}\n",
    "                            },\n",
    "                            \"required\": [\"label\", \"value\"]\n",
    "                        }\n",
    "                    }\n",
    "                },\n",
    "                \"required\": [\"section\", \"items\"]\n",
    "            }\n",
    "        }\n",
    "    },\n",
    "    \"required\": [\"document_title\", \"summary\", \"sections\"]\n",
    "}\n",
    "validator = Draft202012Validator(structured_schema)\n",
    "\n",
    "# ==== PDF text extraction & OCR ====\n",
    "import fitz\n",
    "from PIL import Image, ImageEnhance\n",
    "\n",
    "def get_text_native(path: str, max_pages=50) -> str:\n",
    "    doc = fitz.open(path)\n",
    "    parts = []\n",
    "    for i, p in enumerate(doc):\n",
    "        if i >= max_pages: break\n",
    "        parts.append(p.get_text(\"text\", sort=True) or \"\")\n",
    "    doc.close()\n",
    "    return \"\\n\".join(parts)\n",
    "\n",
    "def get_text_ocr(path: str, dpi=OCR_DPI, max_pages=50, lang=OCR_LANG) -> str:\n",
    "    import pytesseract\n",
    "    doc = fitz.open(path)\n",
    "    parts = []\n",
    "    scale = dpi/72.0\n",
    "    matrix = fitz.Matrix(scale, scale)\n",
    "    for i, p in enumerate(doc):\n",
    "        if i >= max_pages: break\n",
    "        pix = p.get_pixmap(matrix=matrix, alpha=False)\n",
    "        png = pix.tobytes(\"png\")\n",
    "        img = Image.open(io.BytesIO(png)).convert(\"L\")\n",
    "        img = ImageEnhance.Contrast(img).enhance(2.0)\n",
    "        img = ImageEnhance.Sharpness(img).enhance(1.5)\n",
    "        t = pytesseract.image_to_string(img, lang=lang) or \"\"\n",
    "        parts.append(t)\n",
    "    doc.close()\n",
    "    return \"\\n\".join(parts)\n",
    "\n",
    "def render_pages_as_data_urls(path: str, dpi=OCR_DPI, max_pages=20) -> list:\n",
    "    doc = fitz.open(path)\n",
    "    urls = []\n",
    "    scale = dpi/72.0\n",
    "    matrix = fitz.Matrix(scale, scale)\n",
    "    for i, p in enumerate(doc):\n",
    "        if i >= max_pages: break\n",
    "        pix = p.get_pixmap(matrix=matrix, alpha=False)\n",
    "        png = pix.tobytes(\"png\")\n",
    "        b64 = base64.b64encode(png).decode(\"utf-8\")\n",
    "        urls.append(\"data:image/png;base64,\" + b64)\n",
    "    doc.close()\n",
    "    return urls\n",
    "\n",
    "# ==== Minimal seed ====\n",
    "def parse_deterministic(text: str) -> dict:\n",
    "    first_line = (text.splitlines() or [\"\"])[0].strip()\n",
    "    return {\n",
    "        \"document_title\": first_line if first_line else None,\n",
    "        \"summary\": None,\n",
    "        \"sections\": []\n",
    "    }\n",
    "\n",
    "# ==== GPT-4o Prompt ====\n",
    "JSON_ONLY_SYSTEM = (\n",
    "    \"You are an OCR + information extraction agent. \"\n",
    "    \"You MUST NOT hallucinate values. \"\n",
    "    \"Return ONLY one JSON object with exactly this schema: \"\n",
    "    + json.dumps(structured_schema) +\n",
    "    \" Extract all report information into 'sections'. \"\n",
    "    \"Each section should have 'items' with {label, value}. \"\n",
    "    \"If data is missing, include it with value=null. \"\n",
    "    \"Output JSON only, no commentary, no code fences.\"\n",
    ")\n",
    "\n",
    "def validate_json(s: str) -> dict:\n",
    "    s = re.sub(r\"^```(?:json)?\\s*|\\s*```$\", \"\", s.strip(), flags=re.I|re.DOTALL)\n",
    "    obj = json.loads(s)\n",
    "    validator.validate(obj)\n",
    "    return obj\n",
    "\n",
    "def gpt4o_complete(pdf_path: str, ocr_text: str, seed_doc: dict) -> dict:\n",
    "    images = render_pages_as_data_urls(pdf_path, dpi=OCR_DPI)\n",
    "    ocr_chunk = ocr_text[:120000]\n",
    "    seed_chunk = json.dumps(seed_doc)[:120000]\n",
    "    messages = [{\n",
    "        \"role\": \"system\",\n",
    "        \"content\": JSON_ONLY_SYSTEM\n",
    "    },{\n",
    "        \"role\": \"user\",\n",
    "        \"content\": [\n",
    "            {\"type\": \"input_text\", \"text\": \"Here is OCR/native text:\\n\" + ocr_chunk},\n",
    "            {\"type\": \"input_text\", \"text\": \"Here is a partial parse:\\n\" + seed_chunk},\n",
    "        ] + [{\"type\": \"input_image\", \"image_url\": u} for u in images]\n",
    "    }]\n",
    "    resp = client.responses.create(model=MODEL, input=messages, temperature=0)\n",
    "    return validate_json(resp.output_text)\n",
    "\n",
    "# ==== Main Orchestrator (AI only) ====\n",
    "def extract_structured_pdf(pdf_path: str, use_ocr=USE_OCR, dpi=OCR_DPI, lang=OCR_LANG) -> dict:\n",
    "    text = get_text_ocr(pdf_path, dpi=dpi, lang=lang) if use_ocr else get_text_native(pdf_path)\n",
    "    seed = parse_deterministic(text)\n",
    "    return gpt4o_complete(pdf_path, text, seed)\n",
    "\n"
   ]
  },
  {
   "cell_type": "code",
   "execution_count": 0,
   "metadata": {
    "application/vnd.databricks.v1+cell": {
     "cellMetadata": {
      "byteLimit": 2048000,
      "rowLimit": 10000
     },
     "inputWidgets": {},
     "nuid": "af37db56-87c1-4706-a83d-094fc910d9cd",
     "showTitle": false,
     "tableResultSettingsMap": {},
     "title": ""
    }
   },
   "outputs": [
    {
     "output_type": "display_data",
     "data": {
      "text/plain": [
       "{'document_title': 'Intraday Customized Report',\n",
       " 'summary': None,\n",
       " 'sections': [{'section': 'Account: Collections Pins - 2314 329681223815 Jitbank National Association 021300089',\n",
       "   'items': [{'label': 'Opening Ledger', 'value': '$100,000.00'},\n",
       "    {'label': 'Holds', 'value': '$0.00'},\n",
       "    {'label': 'Uncollected Funds', 'value': '$0.00'},\n",
       "    {'label': 'Current Ledger', 'value': '$100,000.00'},\n",
       "    {'label': 'Current Available', 'value': '$100,000.00'},\n",
       "    {'label': 'Early ACH Credits (0)', 'value': '$0.00'},\n",
       "    {'label': 'Late ACH Credits (0)', 'value': '$0.00'},\n",
       "    {'label': 'Lockbox Credits', 'value': '$0.00'},\n",
       "    {'label': 'Wire Transfer Credits (0)', 'value': '$0.00'},\n",
       "    {'label': 'Deposits', 'value': '$0.00'},\n",
       "    {'label': 'Other Misc Credits (0)', 'value': '$0.00'},\n",
       "    {'label': 'Real Time Payment Credits (0)', 'value': '$0.00'},\n",
       "    {'label': 'Total Credits (0)', 'value': '$0.00'},\n",
       "    {'label': 'Early ACH Debits (0)', 'value': '$0.90'},\n",
       "    {'label': 'Late ACH Debits (5)', 'value': '$0.00'},\n",
       "    {'label': 'Wire Transfer Debits (G)', 'value': '$0.00'},\n",
       "    {'label': 'Other Misc Debits (0)', 'value': '$0.00'},\n",
       "    {'label': 'Real Time Payment Debits (0)', 'value': '$0.00'},\n",
       "    {'label': 'Total Debits (9)', 'value': '$0.00'}]},\n",
       "  {'section': 'Account: Collections Pro-4368 329681318963 Hiren Bank Association 02130009',\n",
       "   'items': [{'label': 'Opening Ledger', 'value': '$0.00'},\n",
       "    {'label': 'Holds', 'value': '$0.00'},\n",
       "    {'label': 'Uncollected Funds', 'value': '$0.00'},\n",
       "    {'label': 'Current Ledger', 'value': '$0.00'},\n",
       "    {'label': 'Current Available', 'value': '$0.00'},\n",
       "    {'label': 'Early ACH Credits (0)', 'value': '$0.00'},\n",
       "    {'label': 'Late ACH Credits (0)', 'value': '$0.00'},\n",
       "    {'label': 'Lockbox Credits', 'value': '$0.00'},\n",
       "    {'label': 'Wire Transfer Credits (0)', 'value': '$0.00'},\n",
       "    {'label': 'Deposits', 'value': '$0.00'},\n",
       "    {'label': 'Other Misc Credits (0)', 'value': '$0.00'},\n",
       "    {'label': 'Real Time Payment Credits (0)', 'value': '$0.00'},\n",
       "    {'label': 'Total Credits (0)', 'value': '$0.00'},\n",
       "    {'label': 'Early ACH Debits (0)', 'value': '$0.00'},\n",
       "    {'label': 'Late ACH Debits (0)', 'value': '$0.00'},\n",
       "    {'label': 'Wire Transfer Debits (0)', 'value': '$0.00'},\n",
       "    {'label': 'Other Misc Debits (0)', 'value': '$0.00'},\n",
       "    {'label': 'Real Time Payment Debits (0)', 'value': '$0.00'},\n",
       "    {'label': 'Total Debits (0)', 'value': '$0.00'}]}]}"
      ]
     },
     "metadata": {},
     "output_type": "display_data"
    }
   ],
   "source": [
    "\n",
    "pdf_path = \"/Volumes/workspace/default/pdfvolume/IntraDay_Report.pdf\"  # change if needed\n",
    "\n",
    "# ---------- Extract the structured data using pipelien ------------------\n",
    "doc = extract_structured_pdf(pdf_path, use_ocr=True, dpi=600, lang=\"eng\")\n",
    "display(doc)\n",
    "#print(json.dumps(doc, indent=2))\n"
   ]
  }
 ],
 "metadata": {
  "application/vnd.databricks.v1+notebook": {
   "computePreferences": null,
   "dashboards": [],
   "environmentMetadata": {
    "base_environment": "",
    "environment_version": "3"
   },
   "inputWidgetPreferences": null,
   "language": "python",
   "notebookMetadata": {
    "pythonIndentUnit": 4
   },
   "notebookName": "IntraDayReportAI",
   "widgets": {}
  },
  "language_info": {
   "name": "python"
  }
 },
 "nbformat": 4,
 "nbformat_minor": 0
}